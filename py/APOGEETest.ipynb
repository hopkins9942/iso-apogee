{
 "cells": [
  {
   "cell_type": "markdown",
   "id": "f7af0371-298c-447a-8553-6c303bad57fb",
   "metadata": {},
   "source": [
    "Testing APOGEE usage"
   ]
  },
  {
   "cell_type": "code",
   "execution_count": null,
   "id": "be0556da-2999-4578-b8cb-a333c0670b0a",
   "metadata": {},
   "outputs": [],
   "source": [
    "import\n",
    "\n"
   ]
  }
 ],
 "metadata": {
  "kernelspec": {
   "display_name": "Python 3 (ipykernel)",
   "language": "python",
   "name": "python3"
  },
  "language_info": {
   "codemirror_mode": {
    "name": "ipython",
    "version": 3
   },
   "file_extension": ".py",
   "mimetype": "text/x-python",
   "name": "python",
   "nbconvert_exporter": "python",
   "pygments_lexer": "ipython3",
   "version": "3.8.10"
  }
 },
 "nbformat": 4,
 "nbformat_minor": 5
}
